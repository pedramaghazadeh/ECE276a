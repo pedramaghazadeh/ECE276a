{
 "cells": [
  {
   "cell_type": "code",
   "execution_count": 1,
   "metadata": {},
   "outputs": [],
   "source": [
    "import jax\n",
    "import jax.numpy as jnp"
   ]
  },
  {
   "cell_type": "code",
   "execution_count": 20,
   "metadata": {},
   "outputs": [],
   "source": [
    "def cost(x, y):\n",
    "    error = 0\n",
    "    for i in range(len(x)):\n",
    "        error += ((x[i - 1] * y[i] / y[i - 1]) - y[i - 1]) ** 2\n",
    "    return jnp.sum((x - y) ** 2)"
   ]
  },
  {
   "cell_type": "code",
   "execution_count": 21,
   "metadata": {},
   "outputs": [],
   "source": [
    "gt = jnp.array([1.0, 2.0, 3.0, 4.0, 5.0])\n",
    "pred = jnp.array([0.0, 0.0, 0.0, 0.0, 0.0])"
   ]
  },
  {
   "cell_type": "code",
   "execution_count": 22,
   "metadata": {},
   "outputs": [],
   "source": [
    "grad_cost = jax.grad(cost)"
   ]
  },
  {
   "cell_type": "code",
   "execution_count": 23,
   "metadata": {},
   "outputs": [
    {
     "name": "stdout",
     "output_type": "stream",
     "text": [
      "[0.2 0.4 0.6 0.8 1. ]\n",
      "[0.36 0.72 1.08 1.44 1.8 ]\n",
      "[0.48800004 0.9760001  1.464      1.9520001  2.44      ]\n",
      "[0.59040004 1.1808001  1.7712     2.3616002  2.9520001 ]\n",
      "[0.67232   1.34464   2.01696   2.68928   3.3616002]\n",
      "[0.73785603 1.4757121  2.213568   2.9514241  3.68928   ]\n",
      "[0.7902848 1.5805696 2.3708544 3.1611392 3.9514241]\n",
      "[0.8322278 1.6644557 2.4966836 3.3289113 4.1611395]\n",
      "[0.86578226 1.7315645  2.5973468  3.463129   4.328912  ]\n",
      "[0.8926258 1.7852516 2.6778774 3.5705032 4.4631295]\n",
      "[0.91410065 1.8282013  2.742302   3.6564026  4.5705037 ]\n",
      "[0.9312805 1.862561  2.7938416 3.725122  4.656403 ]\n",
      "[0.9450244 1.8900487 2.8350732 3.7800975 4.7251225]\n",
      "[0.9560195 1.912039  2.8680587 3.824078  4.780098 ]\n",
      "[0.9648156 1.9296312 2.8944468 3.8592625 4.8240786]\n",
      "[0.9718525 1.943705  2.9155574 3.88741   4.859263 ]\n",
      "[0.97748196 1.9549639  2.932446   3.9099278  4.88741   ]\n",
      "[0.98198557 1.9639711  2.9459567  3.9279423  4.9099283 ]\n",
      "[0.98558843 1.9711769  2.9567654  3.9423537  4.9279428 ]\n",
      "[0.98847073 1.9769415  2.9654124  3.953883   4.942354  ]\n"
     ]
    }
   ],
   "source": [
    "for i in range(20):\n",
    "    pred = pred - 0.1 * grad_cost(pred, gt)\n",
    "    print(pred)"
   ]
  }
 ],
 "metadata": {
  "kernelspec": {
   "display_name": "echollm",
   "language": "python",
   "name": "python3"
  },
  "language_info": {
   "codemirror_mode": {
    "name": "ipython",
    "version": 3
   },
   "file_extension": ".py",
   "mimetype": "text/x-python",
   "name": "python",
   "nbconvert_exporter": "python",
   "pygments_lexer": "ipython3",
   "version": "3.12.4"
  }
 },
 "nbformat": 4,
 "nbformat_minor": 2
}
