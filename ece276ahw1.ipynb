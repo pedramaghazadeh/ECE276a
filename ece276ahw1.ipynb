{
 "cells": [
  {
   "cell_type": "code",
   "execution_count": 1,
   "metadata": {},
   "outputs": [],
   "source": [
    "import jax\n",
    "import jax.numpy as jnp"
   ]
  },
  {
   "cell_type": "code",
   "execution_count": 2,
   "metadata": {},
   "outputs": [],
   "source": [
    "q = jnp.array([1, 2, 3, 4], dtype=jnp.float32)"
   ]
  },
  {
   "cell_type": "markdown",
   "metadata": {},
   "source": [
    "For function f"
   ]
  },
  {
   "cell_type": "code",
   "execution_count": 3,
   "metadata": {},
   "outputs": [],
   "source": [
    "def f(q):\n",
    "    return jnp.log(jnp.sqrt(jnp.matmul(jnp.transpose(q), q)))"
   ]
  },
  {
   "cell_type": "markdown",
   "metadata": {},
   "source": [
    "This is consistent with what we calculated for the HW1"
   ]
  },
  {
   "cell_type": "code",
   "execution_count": 4,
   "metadata": {},
   "outputs": [
    {
     "name": "stdout",
     "output_type": "stream",
     "text": [
      "[0.03333333 0.06666666 0.09999999 0.13333333]\n"
     ]
    }
   ],
   "source": [
    "df_dq = jax.grad(f)(q)\n",
    "print(df_dq)"
   ]
  },
  {
   "cell_type": "markdown",
   "metadata": {},
   "source": [
    "For function g"
   ]
  },
  {
   "cell_type": "code",
   "execution_count": 5,
   "metadata": {},
   "outputs": [],
   "source": [
    "def g(q):\n",
    "    return q[1:] / (jnp.sqrt(jnp.matmul(jnp.transpose(q[1:]), q[1:])))"
   ]
  },
  {
   "cell_type": "markdown",
   "metadata": {},
   "source": [
    "These results are conistent with the analytical derivatives!"
   ]
  },
  {
   "cell_type": "code",
   "execution_count": 6,
   "metadata": {},
   "outputs": [
    {
     "name": "stdout",
     "output_type": "stream",
     "text": [
      "[[ 0.          0.16008219 -0.03841972 -0.0512263 ]\n",
      " [ 0.         -0.03841972  0.12806575 -0.07683945]\n",
      " [ 0.         -0.0512263  -0.07683945  0.08324274]]\n"
     ]
    }
   ],
   "source": [
    "dg_dq = jax.jacfwd(g)(q)\n",
    "print(dg_dq)"
   ]
  },
  {
   "cell_type": "markdown",
   "metadata": {},
   "source": [
    "For function h"
   ]
  },
  {
   "cell_type": "code",
   "execution_count": 7,
   "metadata": {},
   "outputs": [],
   "source": [
    "def h(q):\n",
    "    return jnp.arccos(q[0] / jnp.sqrt(jnp.matmul(jnp.transpose(q), q)))"
   ]
  },
  {
   "cell_type": "markdown",
   "metadata": {},
   "source": [
    "These results are consistent with the analytical derivatives!"
   ]
  },
  {
   "cell_type": "code",
   "execution_count": 8,
   "metadata": {},
   "outputs": [
    {
     "name": "stdout",
     "output_type": "stream",
     "text": [
      "[-0.17950548  0.01237969  0.01856953  0.02475937]\n"
     ]
    }
   ],
   "source": [
    "dh_dq = jax.grad(h)(q)\n",
    "print(dh_dq)"
   ]
  },
  {
   "cell_type": "markdown",
   "metadata": {},
   "source": [
    "For problem 3"
   ]
  },
  {
   "cell_type": "code",
   "execution_count": 9,
   "metadata": {},
   "outputs": [],
   "source": [
    "import transforms3d\n",
    "import numpy as np"
   ]
  },
  {
   "cell_type": "markdown",
   "metadata": {},
   "source": [
    "Part a)"
   ]
  },
  {
   "cell_type": "code",
   "execution_count": 10,
   "metadata": {},
   "outputs": [],
   "source": [
    "r = np.array([[0.1729, -0.1468, 0.9739],\n",
    "              [0.9739, 0.1729, -0.1468],\n",
    "              [-0.1468, 0.9739, 0.1729],])\n"
   ]
  },
  {
   "cell_type": "code",
   "execution_count": 11,
   "metadata": {},
   "outputs": [
    {
     "name": "stdout",
     "output_type": "stream",
     "text": [
      "1.8138318028969072\n",
      "[[0.57731619]\n",
      " [0.57731619]\n",
      " [0.57731619]]\n"
     ]
    }
   ],
   "source": [
    "theta = np.arccos((np.trace(r) - 1) / 2) \n",
    "print(theta)\n",
    "\n",
    "alpha = np.array([[r[2, 1] - r[1, 2]],\n",
    "                  [r[0, 2] - r[2, 0]],\n",
    "                  [r[1, 0] - r[0, 1]],]) / (2 * np.sin(theta))\n",
    "print(alpha)"
   ]
  },
  {
   "cell_type": "markdown",
   "metadata": {},
   "source": [
    "The rotation matrix R corresponds to a 1.81 radian rotation around axis of [0.577, 0.577, 0.577]. We can further confirm this by using:"
   ]
  },
  {
   "cell_type": "code",
   "execution_count": 12,
   "metadata": {},
   "outputs": [
    {
     "name": "stdout",
     "output_type": "stream",
     "text": [
      "[0.57735027 0.57735027 0.57735027] 1.8138455905719817\n"
     ]
    }
   ],
   "source": [
    "q = transforms3d.quaternions.mat2quat(r)\n",
    "theta = np.arccos(q[0]) * 2\n",
    "alpha = q[1:] / np.sin(theta / 2)\n",
    "print(alpha, theta)"
   ]
  },
  {
   "cell_type": "markdown",
   "metadata": {},
   "source": [
    "Problem 4"
   ]
  },
  {
   "cell_type": "markdown",
   "metadata": {},
   "source": [
    "If the transition is from A to B:"
   ]
  },
  {
   "cell_type": "code",
   "execution_count": 29,
   "metadata": {},
   "outputs": [
    {
     "name": "stdout",
     "output_type": "stream",
     "text": [
      "[ 1.5         2.23205081 -0.1339746   2.59807621]\n",
      "[ 0.          1.8660254  -1.23205081  3.        ]\n"
     ]
    }
   ],
   "source": [
    "p = [0, -1, 1, 0]\n",
    "q = [np.sqrt(3) / 2, 0, 0, -1/2]\n",
    "q_inv = [np.sqrt(3) / 2, 0, 0, 1/2]\n",
    "s = [0, 2, 1, 3]\n",
    "\n",
    "\n",
    "\n",
    "s_a = transforms3d.quaternions.qmult(q, s)\n",
    "print(s_a)\n",
    "s_a = transforms3d.quaternions.qmult(s_a, q_inv)\n",
    "print(s_a)"
   ]
  },
  {
   "cell_type": "markdown",
   "metadata": {},
   "source": [
    "Otherwise"
   ]
  },
  {
   "cell_type": "code",
   "execution_count": 31,
   "metadata": {},
   "outputs": [
    {
     "name": "stdout",
     "output_type": "stream",
     "text": [
      "[-1.5         1.23205081  1.8660254   2.59807621]\n",
      "[0.         0.1339746  2.23205081 3.        ]\n"
     ]
    }
   ],
   "source": [
    "p = [0, -1, 1, 0]\n",
    "q = [np.sqrt(3) / 2, 0, 0, 1/2]\n",
    "q_inv = [np.sqrt(3) / 2, 0, 0, -1/2]\n",
    "s = [0, 2, 1, 3]\n",
    "\n",
    "\n",
    "\n",
    "s_a = transforms3d.quaternions.qmult(q, s)\n",
    "print(s_a)\n",
    "s_a = transforms3d.quaternions.qmult(s_a, q_inv)\n",
    "print(s_a)"
   ]
  }
 ],
 "metadata": {
  "kernelspec": {
   "display_name": "echollm",
   "language": "python",
   "name": "python3"
  },
  "language_info": {
   "codemirror_mode": {
    "name": "ipython",
    "version": 3
   },
   "file_extension": ".py",
   "mimetype": "text/x-python",
   "name": "python",
   "nbconvert_exporter": "python",
   "pygments_lexer": "ipython3",
   "version": "3.12.4"
  }
 },
 "nbformat": 4,
 "nbformat_minor": 2
}
