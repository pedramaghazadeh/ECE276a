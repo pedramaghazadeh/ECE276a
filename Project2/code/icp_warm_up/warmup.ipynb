{
 "cells": [
  {
   "cell_type": "code",
   "execution_count": 2,
   "metadata": {},
   "outputs": [],
   "source": [
    "import jax\n",
    "\n",
    "import jax.numpy as np\n",
    "import numpy as np\n",
    "import transforms3d as t3d\n",
    "\n",
    "from scipy.spatial import KDTree\n",
    "from tqdm import tqdm\n",
    "from utils import read_canonical_model, load_pc, visualize_icp_result"
   ]
  },
  {
   "cell_type": "code",
   "execution_count": 3,
   "metadata": {},
   "outputs": [],
   "source": [
    "def Kabsch(m, z):\n",
    "    # Kabsch algorithm\n",
    "    # From m to z\n",
    "    # z: source point cloud\n",
    "    # m: target point cloud\n",
    "\n",
    "    z_bar = np.mean(z, axis=0)\n",
    "    m_bar = np.mean(m, axis=0)\n",
    "\n",
    "    delta_z = (z - z_bar).reshape(len(z), 3, 1)\n",
    "    delta_m = (m - m_bar).reshape(len(m), 3, 1)\n",
    "\n",
    "    Q = np.zeros((3, 3))\n",
    "    for i in range(len(z)):\n",
    "        mult = delta_m[i] @ delta_z[i].T\n",
    "        Q += mult\n",
    "\n",
    "    # SVD\n",
    "    U, s, Vt = np.linalg.svd(Q)\n",
    "    det_UV = np.linalg.det(U @ Vt)\n",
    "    mid_matrix = np.eye(3)\n",
    "    mid_matrix[2][2] = det_UV\n",
    "\n",
    "    R = U @ mid_matrix @ Vt\n",
    "    p = m_bar - R @ z_bar\n",
    "\n",
    "    return R, p"
   ]
  },
  {
   "cell_type": "code",
   "execution_count": null,
   "metadata": {},
   "outputs": [],
   "source": [
    "def ICP(z, m):\n",
    "    # ICP algorithm\n",
    "    # z: source point cloud\n",
    "    # m: target point cloud\n",
    "    # Transforming z into m\n",
    "    # i.e. finding the transformation from m to z\n",
    "    z = np.array(z)\n",
    "    m = np.array(m)\n",
    "\n",
    "    best_R, best_p = np.eye(3), np.zeros(3)\n",
    "\n",
    "    angles = np.linspace(-180, 180, 5)\n",
    "    min_err = np.inf\n",
    "\n",
    "    for roll in tqdm(angles):\n",
    "        for yaw in tqdm(angles):\n",
    "            R_0 = t3d.euler.euler2mat(np.radians(roll), 0, np.radians(yaw))\n",
    "            p_0 = np.mean(m, axis=0) - np.mean(z, axis=0)\n",
    "\n",
    "            m_hat = (R_0 @ z.T).T + p_0\n",
    "            z_assoc = np.zeros_like(m)\n",
    "\n",
    "            for _ in range(70): \n",
    "                # Associate points\n",
    "                tree = KDTree(m_hat)\n",
    "                dist, idx = tree.query(m)\n",
    "                z_assoc = z[idx]\n",
    "\n",
    "                R, p = Kabsch(m, z_assoc)\n",
    "\n",
    "                p = p.reshape(3)\n",
    "                m_hat = (R @ z.T).T + p\n",
    "\n",
    "                m_temp = (R @ z_assoc.T).T + p\n",
    "                err = np.sum(np.linalg.norm(m - m_temp, axis=1))\n",
    "\n",
    "                if err < min_err:\n",
    "                    min_err = err\n",
    "                    best_R = R\n",
    "                    best_p = p\n",
    "\n",
    "    return best_R, best_p"
   ]
  },
  {
   "cell_type": "code",
   "execution_count": null,
   "metadata": {},
   "outputs": [
    {
     "name": "stderr",
     "output_type": "stream",
     "text": [
      "  0%|          | 0/5 [00:00<?, ?it/s]"
     ]
    },
    {
     "name": "stderr",
     "output_type": "stream",
     "text": [
      "100%|██████████| 5/5 [00:45<00:00,  9.11s/it]\n",
      "100%|██████████| 5/5 [00:45<00:00,  9.11s/it]\n",
      "100%|██████████| 5/5 [00:45<00:00,  9.07s/it]\n",
      "100%|██████████| 5/5 [00:45<00:00,  9.13s/it]\n",
      "100%|██████████| 5/5 [00:45<00:00,  9.13s/it]\n",
      "100%|██████████| 5/5 [03:47<00:00, 45.54s/it]\n"
     ]
    }
   ],
   "source": [
    "obj_name = 'liq_container' # Drill or Liq_container\n",
    "num_pc = 4 # Number of point clouds\n",
    "\n",
    "source_pc = read_canonical_model(obj_name)\n",
    "\n",
    "for i in range(num_pc):\n",
    "    target_pc = load_pc(obj_name, i)\n",
    "    R, p = ICP(source_pc, target_pc)\n",
    "\n",
    "    # Estimated_pose, you need to estimate the pose with ICP\n",
    "    pose = np.eye(4)\n",
    "    pose[:3, :3] = R\n",
    "    pose[:3, 3] = p\n",
    "\n",
    "    # Visualize the estimated result\n",
    "    visualize_icp_result(source_pc, target_pc, pose)"
   ]
  }
 ],
 "metadata": {
  "kernelspec": {
   "display_name": "276pr2",
   "language": "python",
   "name": "python3"
  },
  "language_info": {
   "codemirror_mode": {
    "name": "ipython",
    "version": 3
   },
   "file_extension": ".py",
   "mimetype": "text/x-python",
   "name": "python",
   "nbconvert_exporter": "python",
   "pygments_lexer": "ipython3",
   "version": "3.10.16"
  }
 },
 "nbformat": 4,
 "nbformat_minor": 2
}
