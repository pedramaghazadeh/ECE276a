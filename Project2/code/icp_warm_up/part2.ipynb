{
 "cells": [
  {
   "cell_type": "code",
   "execution_count": 1,
   "metadata": {},
   "outputs": [],
   "source": [
    "import jax\n",
    "\n",
    "import jax.numpy as jnp\n",
    "import numpy as np\n",
    "import transforms3d as t3d\n",
    "\n",
    "from tqdm import tqdm\n",
    "from utils import read_canonical_model, load_pc, visualize_icp_result"
   ]
  },
  {
   "cell_type": "code",
   "execution_count": 18,
   "metadata": {},
   "outputs": [],
   "source": [
    "def Kabsch(z, m):\n",
    "    # Kabsch algorithm\n",
    "    # z: source point cloud\n",
    "    # m: target point cloud\n",
    "    z_bar = np.mean(z, axis=0)\n",
    "    m_bar = np.mean(m, axis=0)\n",
    "\n",
    "    delta_z = (z - z_bar).reshape(len(z), 3, 1)\n",
    "    delta_m = (m - m_bar).reshape(len(m), 3, 1)\n",
    "\n",
    "    Q = np.zeros((3, 3))\n",
    "    for i in range(len(z)):\n",
    "        mult = delta_m[i] @ delta_z[i].T\n",
    "        Q += mult\n",
    "    # SVD\n",
    "    U, s, V = np.linalg.svd(Q)\n",
    "    det_UV = np.linalg.det(U @ V.T)\n",
    "    mid_matrix = np.eye(3)\n",
    "    mid_matrix[2][2] = det_UV\n",
    "    R = U @ mid_matrix @ V\n",
    "    p = m_bar - R @ z_bar\n",
    "\n",
    "    return R, p"
   ]
  },
  {
   "cell_type": "code",
   "execution_count": null,
   "metadata": {},
   "outputs": [],
   "source": [
    "def ICP(z, m):\n",
    "    # ICP algorithm\n",
    "    # z: source point cloud\n",
    "    # m: target point cloud\n",
    "    # Transforming z into m\n",
    "    \n",
    "    # Initial guess\n",
    "    \n",
    "    # Random rotation\n",
    "    # angles = np.random.rand(3) * 2 * np.pi - np.pi\n",
    "    # R_0 = t3d.euler.euler2mat(angles[0], angles[1], angles[2])\n",
    "    \n",
    "    # Simple guess\n",
    "    R_0 = np.eye(3)\n",
    "    p_0 = np.zeros(3)\n",
    "\n",
    "    m_hat = (R_0 @ z.T).T + p_0\n",
    "    z_assoc = np.zeros_like(m)\n",
    "\n",
    "    for _ in tqdm(range(20)):\n",
    "        \n",
    "        # Parallelize the closest point\n",
    "        z_assoc = np.array([z[np.argmin(np.linalg.norm(m[i] - m_hat, axis=1))] for i in range(len(m))])\n",
    "\n",
    "        # for i in range(len(m)):\n",
    "        #     # Find the closest point\n",
    "        #     dist = np.linalg.norm(m[i] - m_hat, axis=1)\n",
    "        #     ind = np.argmin(dist)\n",
    "        #     z_assoc[i] = z[ind]\n",
    "\n",
    "        R, p = Kabsch(z_assoc, m)\n",
    "        m_hat = (R @ z.T).T + p\n",
    "        \n",
    "        m_temp = (R @ z_assoc.T).T + p\n",
    "        err = np.sum(np.linalg.norm(m - m_temp, axis=1))\n",
    "        print(f\"Avg. error: {err / len(m)}\")\n",
    "        \n",
    "    return R, p"
   ]
  },
  {
   "cell_type": "code",
   "execution_count": 30,
   "metadata": {},
   "outputs": [
    {
     "name": "stdout",
     "output_type": "stream",
     "text": [
      "(46563, 3) (19544, 3)\n"
     ]
    },
    {
     "name": "stderr",
     "output_type": "stream",
     "text": [
      "  5%|▌         | 1/20 [00:03<01:06,  3.51s/it]"
     ]
    },
    {
     "name": "stdout",
     "output_type": "stream",
     "text": [
      "Avg. error: 0.05262744785269032\n"
     ]
    },
    {
     "name": "stderr",
     "output_type": "stream",
     "text": [
      " 10%|█         | 2/20 [00:06<00:59,  3.33s/it]"
     ]
    },
    {
     "name": "stdout",
     "output_type": "stream",
     "text": [
      "Avg. error: 0.020087199931730564\n"
     ]
    },
    {
     "name": "stderr",
     "output_type": "stream",
     "text": [
      " 15%|█▌        | 3/20 [00:10<00:59,  3.50s/it]"
     ]
    },
    {
     "name": "stdout",
     "output_type": "stream",
     "text": [
      "Avg. error: 0.017016891463245854\n"
     ]
    },
    {
     "name": "stderr",
     "output_type": "stream",
     "text": [
      " 20%|██        | 4/20 [00:14<01:01,  3.85s/it]"
     ]
    },
    {
     "name": "stdout",
     "output_type": "stream",
     "text": [
      "Avg. error: 0.016121753656216802\n"
     ]
    },
    {
     "name": "stderr",
     "output_type": "stream",
     "text": [
      " 25%|██▌       | 5/20 [00:18<00:58,  3.87s/it]"
     ]
    },
    {
     "name": "stdout",
     "output_type": "stream",
     "text": [
      "Avg. error: 0.015739882603833407\n"
     ]
    },
    {
     "name": "stderr",
     "output_type": "stream",
     "text": [
      " 30%|███       | 6/20 [00:22<00:55,  3.96s/it]"
     ]
    },
    {
     "name": "stdout",
     "output_type": "stream",
     "text": [
      "Avg. error: 0.015494175283264737\n"
     ]
    },
    {
     "name": "stderr",
     "output_type": "stream",
     "text": [
      " 35%|███▌      | 7/20 [00:26<00:49,  3.78s/it]"
     ]
    },
    {
     "name": "stdout",
     "output_type": "stream",
     "text": [
      "Avg. error: 0.01529330206658057\n"
     ]
    },
    {
     "name": "stderr",
     "output_type": "stream",
     "text": [
      " 40%|████      | 8/20 [00:29<00:42,  3.53s/it]"
     ]
    },
    {
     "name": "stdout",
     "output_type": "stream",
     "text": [
      "Avg. error: 0.015111259225429066\n"
     ]
    },
    {
     "name": "stderr",
     "output_type": "stream",
     "text": [
      " 45%|████▌     | 9/20 [00:33<00:41,  3.75s/it]"
     ]
    },
    {
     "name": "stdout",
     "output_type": "stream",
     "text": [
      "Avg. error: 0.014944869494093191\n"
     ]
    },
    {
     "name": "stderr",
     "output_type": "stream",
     "text": [
      " 50%|█████     | 10/20 [00:37<00:38,  3.90s/it]"
     ]
    },
    {
     "name": "stdout",
     "output_type": "stream",
     "text": [
      "Avg. error: 0.014796672802768454\n"
     ]
    },
    {
     "name": "stderr",
     "output_type": "stream",
     "text": [
      " 55%|█████▌    | 11/20 [00:41<00:34,  3.83s/it]"
     ]
    },
    {
     "name": "stdout",
     "output_type": "stream",
     "text": [
      "Avg. error: 0.01466188869959768\n"
     ]
    },
    {
     "name": "stderr",
     "output_type": "stream",
     "text": [
      " 60%|██████    | 12/20 [00:45<00:32,  4.01s/it]"
     ]
    },
    {
     "name": "stdout",
     "output_type": "stream",
     "text": [
      "Avg. error: 0.014541144037242966\n"
     ]
    },
    {
     "name": "stderr",
     "output_type": "stream",
     "text": [
      " 65%|██████▌   | 13/20 [00:49<00:26,  3.85s/it]"
     ]
    },
    {
     "name": "stdout",
     "output_type": "stream",
     "text": [
      "Avg. error: 0.01443234108994424\n"
     ]
    },
    {
     "name": "stderr",
     "output_type": "stream",
     "text": [
      " 70%|███████   | 14/20 [00:53<00:23,  3.88s/it]"
     ]
    },
    {
     "name": "stdout",
     "output_type": "stream",
     "text": [
      "Avg. error: 0.014329892766660692\n"
     ]
    },
    {
     "name": "stderr",
     "output_type": "stream",
     "text": [
      " 75%|███████▌  | 15/20 [00:56<00:18,  3.77s/it]"
     ]
    },
    {
     "name": "stdout",
     "output_type": "stream",
     "text": [
      "Avg. error: 0.014238738007229445\n"
     ]
    },
    {
     "name": "stderr",
     "output_type": "stream",
     "text": [
      " 80%|████████  | 16/20 [01:00<00:15,  3.82s/it]"
     ]
    },
    {
     "name": "stdout",
     "output_type": "stream",
     "text": [
      "Avg. error: 0.014154409753779951\n"
     ]
    },
    {
     "name": "stderr",
     "output_type": "stream",
     "text": [
      " 85%|████████▌ | 17/20 [01:04<00:11,  3.96s/it]"
     ]
    },
    {
     "name": "stdout",
     "output_type": "stream",
     "text": [
      "Avg. error: 0.014077003268170369\n"
     ]
    },
    {
     "name": "stderr",
     "output_type": "stream",
     "text": [
      " 90%|█████████ | 18/20 [01:08<00:07,  3.69s/it]"
     ]
    },
    {
     "name": "stdout",
     "output_type": "stream",
     "text": [
      "Avg. error: 0.014004409404169676\n"
     ]
    },
    {
     "name": "stderr",
     "output_type": "stream",
     "text": [
      " 95%|█████████▌| 19/20 [01:11<00:03,  3.73s/it]"
     ]
    },
    {
     "name": "stdout",
     "output_type": "stream",
     "text": [
      "Avg. error: 0.013939580590321401\n"
     ]
    },
    {
     "name": "stderr",
     "output_type": "stream",
     "text": [
      "100%|██████████| 20/20 [01:16<00:00,  3.81s/it]"
     ]
    },
    {
     "name": "stdout",
     "output_type": "stream",
     "text": [
      "Avg. error: 0.013878787136280572\n",
      "[[ 0.89379808 -0.34736047 -0.28366477]\n",
      " [ 0.34716301  0.93632311 -0.05269602]\n",
      " [ 0.2839064  -0.05137832  0.9574745 ]] [ 0.54841938 -0.21126736 -0.00369447]\n"
     ]
    },
    {
     "name": "stderr",
     "output_type": "stream",
     "text": [
      "\n"
     ]
    }
   ],
   "source": [
    "obj_name = 'liq_container' # drill or liq_container\n",
    "num_pc = 4 # number of point clouds\n",
    "\n",
    "source_pc = read_canonical_model(obj_name)\n",
    "targets = []\n",
    "\n",
    "for i in range(num_pc):\n",
    "    target_pc = load_pc(obj_name, i)\n",
    "    targets.append(target_pc)\n",
    "\n",
    "print(source_pc.shape, target_pc.shape)\n",
    "target_R_source, target_p_source = ICP(source_pc, targets[2])\n",
    "\n",
    "# Estimated_pose, you need to estimate the pose with ICP\n",
    "pose = np.eye(4)\n",
    "pose[:3, :3] = target_R_source\n",
    "pose[:3, 3] = target_p_source\n",
    "pose[3][3] = 1\n",
    "\n",
    "# Visualize the estimated result\n",
    "visualize_icp_result(source_pc, target_pc, pose)\n",
    "print(target_R_source, target_p_source)"
   ]
  }
 ],
 "metadata": {
  "kernelspec": {
   "display_name": "276pr2",
   "language": "python",
   "name": "python3"
  },
  "language_info": {
   "codemirror_mode": {
    "name": "ipython",
    "version": 3
   },
   "file_extension": ".py",
   "mimetype": "text/x-python",
   "name": "python",
   "nbconvert_exporter": "python",
   "pygments_lexer": "ipython3",
   "version": "3.10.16"
  }
 },
 "nbformat": 4,
 "nbformat_minor": 2
}
