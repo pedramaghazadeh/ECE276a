{
 "cells": [
  {
   "cell_type": "code",
   "execution_count": 175,
   "metadata": {},
   "outputs": [],
   "source": [
    "import numpy as np"
   ]
  },
  {
   "cell_type": "markdown",
   "metadata": {},
   "source": [
    "For question 3"
   ]
  },
  {
   "cell_type": "code",
   "execution_count": 176,
   "metadata": {},
   "outputs": [
    {
     "name": "stdout",
     "output_type": "stream",
     "text": [
      "[0.2785 0.5469 0.9575]\n",
      "[ 0.5391 -0.5638  1.8256]\n"
     ]
    }
   ],
   "source": [
    "z = np.array([\n",
    "    [0.2785, 0.1576, 0.8003, 0.7922, 0.8491, 0.7431, 0.7060, 0.0971],\n",
    "    [0.5469, 0.9706, 0.1419, 0.9595, 0.9340, 0.3922, 0.0318, 0.8235],\n",
    "    [0.9575, 0.9572, 0.4218, 0.6557, 0.6787, 0.6555, 0.2769, 0.6948]\n",
    "]).T\n",
    "\n",
    "m = np.array([\n",
    "    [0.5391, 0.2632, 0.4950, 0.2118, 0.2699, 0.5128, 0.4039, 0.1199],\n",
    "    [-0.5638, -0.7963, 0.2746, -0.1363, -0.1258, 0.0386, 0.3606, -0.6349],\n",
    "    [1.8256, 1.5871, 1.6287, 1.4197, 2.1640, 1.1055, 0.5774, 1.1945]\n",
    "]).T\n",
    "\n",
    "print(z[0])\n",
    "print(m[0])"
   ]
  },
  {
   "cell_type": "code",
   "execution_count": 177,
   "metadata": {},
   "outputs": [
    {
     "name": "stdout",
     "output_type": "stream",
     "text": [
      "[0.5529875 0.60005   0.6622625] [ 0.35195   -0.1979125  1.4378125]\n"
     ]
    }
   ],
   "source": [
    "z_bar = np.mean(z, axis=0)\n",
    "m_bar = np.mean(m, axis=0)\n",
    "\n",
    "delta_z = (z - z_bar).reshape(8, 3, 1)\n",
    "delta_m = (m - m_bar).reshape(8, 3, 1)\n",
    "\n",
    "print(z_bar, m_bar)"
   ]
  },
  {
   "cell_type": "code",
   "execution_count": 178,
   "metadata": {},
   "outputs": [
    {
     "name": "stdout",
     "output_type": "stream",
     "text": [
      "[[ 0.10559398 -0.30095404 -0.03440678]\n",
      " [ 0.81961714 -0.8367173  -0.62839881]\n",
      " [ 0.00853259  0.68688463  0.45057537]]\n"
     ]
    }
   ],
   "source": [
    "Q = np.zeros((3, 3))\n",
    "for i in range(8):\n",
    "    mult = delta_m[i] @ delta_z[i].T\n",
    "    for j in range(3):\n",
    "        for k in range(3):\n",
    "            Q[j, k] += mult[j, k]\n",
    "print(Q)"
   ]
  },
  {
   "cell_type": "code",
   "execution_count": 179,
   "metadata": {},
   "outputs": [
    {
     "name": "stdout",
     "output_type": "stream",
     "text": [
      "[[-0.1876316   0.10854236  0.97622382]\n",
      " [-0.86098996 -0.49652316 -0.1102771 ]\n",
      " [ 0.472748   -0.86121037  0.18661731]]\n",
      "[[1.5206567  0.         0.        ]\n",
      " [0.         0.46068526 0.        ]\n",
      " [0.         0.         0.14118836]]\n",
      "[[-0.4744405   0.7244219   0.50011911]\n",
      " [-0.87444913 -0.45317037 -0.17313385]\n",
      " [ 0.10121721 -0.51947044  0.84847248]]\n",
      "[[ 0.65587868 -0.05413128  0.75292295]\n",
      " [-0.00635542  0.99699421  0.07721502]\n",
      " [-0.75483957 -0.05542883  0.65356321]]\n",
      "0.9999999999999996\n"
     ]
    }
   ],
   "source": [
    "U, s, V = np.linalg.svd(Q)\n",
    "\n",
    "print(U)\n",
    "print(np.diag(s))\n",
    "print(V)\n",
    "\n",
    "print(U @ V.T)\n",
    "det_UV = np.linalg.det(U @ V.T)\n",
    "print(det_UV)"
   ]
  },
  {
   "cell_type": "code",
   "execution_count": 180,
   "metadata": {},
   "outputs": [
    {
     "name": "stdout",
     "output_type": "stream",
     "text": [
      "[[1. 0. 0.]\n",
      " [0. 1. 0.]\n",
      " [0. 0. 1.]]\n"
     ]
    }
   ],
   "source": [
    "mid_matrix = np.eye(3)\n",
    "mid_matrix[2][2] = det_UV\n",
    "\n",
    "print(mid_matrix)"
   ]
  },
  {
   "cell_type": "code",
   "execution_count": 181,
   "metadata": {},
   "outputs": [
    {
     "name": "stdout",
     "output_type": "stream",
     "text": [
      "[[ 0.09291591 -0.69223203  0.71566853]\n",
      " [ 0.83151082 -0.3414247  -0.43819965]\n",
      " [ 0.54768275  0.63580185  0.54387463]] 0.9999999999999991\n"
     ]
    }
   ],
   "source": [
    "R = U @ mid_matrix @ V\n",
    "print(R, np.linalg.det(R))"
   ]
  },
  {
   "cell_type": "markdown",
   "metadata": {},
   "source": [
    "Verifying that RR'=I"
   ]
  },
  {
   "cell_type": "code",
   "execution_count": 182,
   "metadata": {},
   "outputs": [
    {
     "name": "stdout",
     "output_type": "stream",
     "text": [
      "[[ 1.00000000e+00  0.00000000e+00 -4.44089210e-16]\n",
      " [ 0.00000000e+00  1.00000000e+00  8.32667268e-17]\n",
      " [-4.44089210e-16  8.32667268e-17  1.00000000e+00]]\n"
     ]
    }
   ],
   "source": [
    "print(R @ R.T)"
   ]
  },
  {
   "cell_type": "code",
   "execution_count": 183,
   "metadata": {},
   "outputs": [
    {
     "name": "stdout",
     "output_type": "stream",
     "text": [
      "[ 0.24198206 -0.1626525   0.39325011]\n"
     ]
    }
   ],
   "source": [
    "p = m_bar - R @ z_bar\n",
    "print(p)"
   ]
  },
  {
   "cell_type": "code",
   "execution_count": 184,
   "metadata": {},
   "outputs": [
    {
     "name": "stdout",
     "output_type": "stream",
     "text": [
      "Rotation is \n",
      "\n",
      " [[ 0.09291591 -0.69223203  0.71566853]\n",
      " [ 0.83151082 -0.3414247  -0.43819965]\n",
      " [ 0.54768275  0.63580185  0.54387463]] \n",
      " and translation is \n",
      "\n",
      " [ 0.24198206 -0.1626525   0.39325011]\n"
     ]
    }
   ],
   "source": [
    "print(f\"Rotation is \\n\\n {R} \\n and translation is \\n\\n {p}\")"
   ]
  },
  {
   "cell_type": "code",
   "execution_count": 185,
   "metadata": {},
   "outputs": [],
   "source": [
    "def Kabsch(m, z):\n",
    "    # Kabsch algorithm\n",
    "    # From m to z\n",
    "    # z: source point cloud\n",
    "    # m: target point cloud\n",
    "\n",
    "    z_bar = np.mean(z, axis=0)\n",
    "    m_bar = np.mean(m, axis=0)\n",
    "\n",
    "    delta_z = (z - z_bar).reshape(len(z), 3, 1)\n",
    "    delta_m = (m - m_bar).reshape(len(m), 3, 1)\n",
    "\n",
    "    Q = np.zeros((3, 3))\n",
    "    for i in range(len(z)):\n",
    "        mult = delta_m[i] @ delta_z[i].T\n",
    "        Q += mult\n",
    "\n",
    "    # SVD\n",
    "    U, s, Vt = np.linalg.svd(Q)\n",
    "    det_UV = np.linalg.det(U @ Vt)\n",
    "    mid_matrix = np.eye(3)\n",
    "    mid_matrix[2][2] = det_UV\n",
    "\n",
    "    R = U @ mid_matrix @ Vt\n",
    "    p = m_bar - R @ z_bar\n",
    "\n",
    "    return R, p"
   ]
  },
  {
   "cell_type": "code",
   "execution_count": 186,
   "metadata": {},
   "outputs": [
    {
     "name": "stdout",
     "output_type": "stream",
     "text": [
      "[[ 0.09291591 -0.69223203  0.71566853]\n",
      " [ 0.83151082 -0.3414247  -0.43819965]\n",
      " [ 0.54768275  0.63580185  0.54387463]] [ 0.24198206 -0.1626525   0.39325011]\n",
      "[ 0.57453007 -0.53737807  1.41425975] [ 0.5391 -0.5638  1.8256]\n",
      "[ 0.26978312 -0.78243792  1.61727099] [ 0.2632 -0.7963  1.5871]\n",
      "[0.51998393 0.26952483 1.15118722] [0.495  0.2746 1.6287]\n",
      "[ 0.12065727 -0.11885414  1.79379486] [ 0.2118 -0.1363  1.4197]\n",
      "[ 0.16005648 -0.07291344  1.82125417] [ 0.2699 -0.1258  2.164 ]\n",
      "[0.50865519 0.03409655 1.40610447] [0.5128 0.0386 1.1055]\n",
      "[0.48373633 0.29219935 0.95073152] [0.4039 0.3606 0.5774]\n",
      "[ 0.17819762 -0.66753716  1.34789702] [ 0.1199 -0.6349  1.1945]\n",
      "[[ 0.09291591 -0.69223203  0.71566853]\n",
      " [ 0.83151082 -0.3414247  -0.43819965]\n",
      " [ 0.54768275  0.63580185  0.54387463]] [ 0.24198206 -0.1626525   0.39325011]\n",
      "[ 0.57453007 -0.53737807  1.41425975] [ 0.5391 -0.5638  1.8256]\n",
      "[ 0.26978312 -0.78243792  1.61727099] [ 0.2632 -0.7963  1.5871]\n",
      "[0.51998393 0.26952483 1.15118722] [0.495  0.2746 1.6287]\n",
      "[ 0.12065727 -0.11885414  1.79379486] [ 0.2118 -0.1363  1.4197]\n",
      "[ 0.16005648 -0.07291344  1.82125417] [ 0.2699 -0.1258  2.164 ]\n",
      "[0.50865519 0.03409655 1.40610447] [0.5128 0.0386 1.1055]\n",
      "[0.48373633 0.29219935 0.95073152] [0.4039 0.3606 0.5774]\n",
      "[ 0.17819762 -0.66753716  1.34789702] [ 0.1199 -0.6349  1.1945]\n"
     ]
    }
   ],
   "source": [
    "print(R, p)\n",
    "m_hat = np.zeros((8, 3))\n",
    "for i in range(len(m)):\n",
    "    m_hat[i] = R @ z[i] + p\n",
    "    print(m_hat[i], m[i])\n",
    "\n",
    "R, p = Kabsch(m, z)\n",
    "print(R, p)\n",
    "m_hat = (R @ z.T).T + p\n",
    "\n",
    "\n",
    "for i in range(len(m)):\n",
    "    print(m_hat[i], m[i])"
   ]
  },
  {
   "cell_type": "code",
   "execution_count": 187,
   "metadata": {},
   "outputs": [
    {
     "data": {
      "image/png": "[encoded data removed]",
      "text/plain": [
       "<Figure size 640x480 with 1 Axes>"
      ]
     },
     "metadata": {},
     "output_type": "display_data"
    }
   ],
   "source": [
    "import matplotlib.pyplot as plt\n",
    "# Plotting the points in 3d\n",
    "fig = plt.figure()\n",
    "ax = fig.add_subplot(111, projection='3d')\n",
    "colors = ['r', 'g', 'b', 'y', 'purple', 'orange', 'black', 'pink']\n",
    "for i in range(8):\n",
    "    ax.scatter(m_hat[i, 0], m_hat[i, 1], m_hat[i, 2], c=colors[i], marker='o')\n",
    "    ax.scatter(m[i, 0], m[i, 1], m[i, 2], c=colors[i], marker='^')\n",
    "plt.legend([\"m_hat\", \"m\"])\n",
    "plt.title(\"Visualization of the points in 3D\")\n",
    "plt.show()"
   ]
  },
  {
   "cell_type": "markdown",
   "metadata": {},
   "source": [
    "Problem 4"
   ]
  },
  {
   "cell_type": "markdown",
   "metadata": {},
   "source": [
    "Importing coordinates for both cameras"
   ]
  },
  {
   "cell_type": "code",
   "execution_count": 188,
   "metadata": {},
   "outputs": [],
   "source": [
    "import numpy as np\n",
    "import matplotlib.pyplot as plt\n",
    "\n",
    "k = np.eye(3)\n",
    "\n",
    "cam1 = np.array([\n",
    "    [[0.2953, -0.3088, 1]],\n",
    "    [[0.1658, -0.5017, 1]],\n",
    "    [[0.3040,  0.1686, 1]],\n",
    "    [[0.1492, -0.0960, 1]],\n",
    "    [[0.1247, -0.0581, 1]],\n",
    "    [[0.4638,  0.0349, 1]],\n",
    "    [[0.6996,  0.6246, 1]],\n",
    "    [[0.1004, -0.5315, 1]],\n",
    "])\n",
    "\n",
    "cam2 = np.array([\n",
    "    [[0.2909,  0.5712, 1]],\n",
    "    [[0.1647,  1.0140, 1]],\n",
    "    [[1.8975,  0.3364, 1]],\n",
    "    [[1.2081,  1.4632, 1]],\n",
    "    [[1.2510,  1.3761, 1]],\n",
    "    [[1.1337,  0.5984, 1]],\n",
    "    [[2.5496,  0.1150, 1]],\n",
    "    [[0.1398,  1.1851, 1]]\n",
    "])\n",
    "\n",
    "cam1 = cam1 @ np.linalg.inv(k)\n",
    "cam2 = cam2 @ np.linalg.inv(k)"
   ]
  },
  {
   "cell_type": "markdown",
   "metadata": {},
   "source": [
    "Camera observation model:\n",
    "z=PKpi(R'(m-p))\n",
    "P=[I 0]\n",
    "K=I\n"
   ]
  },
  {
   "cell_type": "markdown",
   "metadata": {},
   "source": [
    "Using 8 points algorithm"
   ]
  },
  {
   "cell_type": "code",
   "execution_count": 189,
   "metadata": {},
   "outputs": [
    {
     "name": "stdout",
     "output_type": "stream",
     "text": [
      "[[ 0.08590277  0.16867536  0.2953     -0.08982992 -0.17638656 -0.3088\n",
      "   0.2909      0.5712      1.        ]\n",
      " [ 0.02730726  0.1681212   0.1658     -0.08262999 -0.5087238  -0.5017\n",
      "   0.1647      1.014       1.        ]\n",
      " [ 0.57684     0.1022656   0.304       0.3199185   0.05671704  0.1686\n",
      "   1.8975      0.3364      1.        ]\n",
      " [ 0.18024852  0.21830944  0.1492     -0.1159776  -0.1404672  -0.096\n",
      "   1.2081      1.4632      1.        ]\n",
      " [ 0.1559997   0.17159967  0.1247     -0.0726831  -0.07995141 -0.0581\n",
      "   1.251       1.3761      1.        ]\n",
      " [ 0.52581006  0.27753792  0.4638      0.03956613  0.02088416  0.0349\n",
      "   1.1337      0.5984      1.        ]\n",
      " [ 1.78370016  0.080454    0.6996      1.59248016  0.071829    0.6246\n",
      "   2.5496      0.115       1.        ]\n",
      " [ 0.01403592  0.11898404  0.1004     -0.0743037  -0.62988065 -0.5315\n",
      "   0.1398      1.1851      1.        ]] (8, 9)\n"
     ]
    }
   ],
   "source": [
    "y_bar = np.zeros((8, 9))\n",
    "for i in range(8):\n",
    "    y_bar[i] = (cam1[i].T@cam2[i]).reshape((9))\n",
    "\n",
    "print(y_bar, y_bar.shape)"
   ]
  },
  {
   "cell_type": "markdown",
   "metadata": {},
   "source": [
    "Singular vector corresponding to the 0 singular value"
   ]
  },
  {
   "cell_type": "code",
   "execution_count": 190,
   "metadata": {},
   "outputs": [
    {
     "name": "stdout",
     "output_type": "stream",
     "text": [
      "y_bar is of shape (8, 9)\n",
      "[5.36947521e+00 2.98135697e+00 1.02010748e+00 6.58081018e-01\n",
      " 3.55167475e-01 1.39349780e-01 3.23372973e-02 2.31736074e-03]\n",
      "(8, 8) (8, 8) (9, 9)\n",
      "[-0.54348456  0.25094916  0.37614438  0.19959236 -0.39738898  0.54908277\n",
      "  0.01514375 -0.01958218  0.01745453]\n",
      "[[-0.54348456  0.19959236  0.01514375]\n",
      " [ 0.25094916 -0.39738898 -0.01958218]\n",
      " [ 0.37614438  0.54908277  0.01745453]]\n"
     ]
    }
   ],
   "source": [
    "print(f\"y_bar is of shape {y_bar.shape}\")\n",
    "\n",
    "u, s, v = np.linalg.svd(y_bar)\n",
    "print(s)\n",
    "s = np.diag(s)\n",
    "print(u.shape, s.shape, v.shape)\n",
    "\n",
    "# V is already transposed, so the last row is actually the last column\n",
    "e = v[-1, :]\n",
    "print(e)\n",
    "\n",
    "# Vec() in the slides stacks columns of a matrix into a single column vector\n",
    "# So, we have to reshape AND transpose\n",
    "E = e.reshape((3, 3)).T\n",
    "\n",
    "print(E)\n"
   ]
  },
  {
   "cell_type": "markdown",
   "metadata": {},
   "source": [
    "The singular values are pretty close to each other, we can keep the first two the same and change the third one to 0. Having them the same doesn't change the answer significantly and only the translation changes."
   ]
  },
  {
   "cell_type": "code",
   "execution_count": 191,
   "metadata": {},
   "outputs": [
    {
     "name": "stdout",
     "output_type": "stream",
     "text": [
      "Singular values are [7.08472995e-01 7.05737910e-01 1.36056443e-04]\n",
      "[[-0.54348354  0.19958917  0.01522192]\n",
      " [ 0.25095049 -0.39739313 -0.01948055]\n",
      " [ 0.37614497  0.54908093  0.01749967]]\n"
     ]
    }
   ],
   "source": [
    "U, S, V = np.linalg.svd(E)\n",
    "\n",
    "print(f\"Singular values are {S}\")\n",
    "# Enforcing rank 2\n",
    "S = np.diag([S[0], S[1], 0])\n",
    "\n",
    "E = U @ S @ V\n",
    "print(E)"
   ]
  },
  {
   "cell_type": "code",
   "execution_count": 192,
   "metadata": {},
   "outputs": [
    {
     "name": "stdout",
     "output_type": "stream",
     "text": [
      "[[ 6.123234e-17 -1.000000e+00  0.000000e+00]\n",
      " [ 1.000000e+00  6.123234e-17  0.000000e+00]\n",
      " [-0.000000e+00  0.000000e+00  1.000000e+00]]\n"
     ]
    }
   ],
   "source": [
    "import transforms3d as t3d\n",
    "\n",
    "W = t3d.euler.euler2mat(0, 0, np.pi / 2)\n",
    "print(W)"
   ]
  },
  {
   "cell_type": "markdown",
   "metadata": {},
   "source": [
    "For better accuracy"
   ]
  },
  {
   "cell_type": "code",
   "execution_count": 193,
   "metadata": {},
   "outputs": [],
   "source": [
    "W = np.array([[0.0, -1.0, 0.0], \n",
    "              [1.0, 0.0, 0.0], \n",
    "              [0.0, 0.0, 1.0]])"
   ]
  },
  {
   "cell_type": "code",
   "execution_count": 194,
   "metadata": {},
   "outputs": [
    {
     "name": "stdout",
     "output_type": "stream",
     "text": [
      "-0.9999999999999991\n",
      "-0.9999999999999993\n",
      "[[ 0.27389008  0.79113502 -0.54689085]\n",
      " [-0.57161019 -0.32340161 -0.75410423]\n",
      " [ 0.77346365 -0.51915005 -0.36364435]] \n",
      "\n",
      " [[-0.2888588  -0.74425842 -0.60219598]\n",
      " [ 0.55214875  0.38434779 -0.73987062]\n",
      " [-0.78210763  0.54621989 -0.29991912]]\n"
     ]
    }
   ],
   "source": [
    "R1 = U @ W @ V\n",
    "print(np.linalg.det(R1))\n",
    "\n",
    "R2 = U @ W.T @ V\n",
    "print(np.linalg.det(R2))\n",
    "\n",
    "print(R1, \"\\n\\n\",R2)"
   ]
  },
  {
   "cell_type": "markdown",
   "metadata": {},
   "source": [
    "Let's multiply R1, R2 by -1 since determinent can't be negative"
   ]
  },
  {
   "cell_type": "code",
   "execution_count": 195,
   "metadata": {},
   "outputs": [
    {
     "name": "stdout",
     "output_type": "stream",
     "text": [
      "[[-0.27389008 -0.79113502  0.54689085]\n",
      " [ 0.57161019  0.32340161  0.75410423]\n",
      " [-0.77346365  0.51915005  0.36364435]] 0.9999999999999991\n",
      "[[ 0.2888588   0.74425842  0.60219598]\n",
      " [-0.55214875 -0.38434779  0.73987062]\n",
      " [ 0.78210763 -0.54621989  0.29991912]] 0.9999999999999993\n"
     ]
    }
   ],
   "source": [
    "R1 *= -1\n",
    "R2 *= -1\n",
    "\n",
    "print(R1, np.linalg.det(R1))\n",
    "print(R2, np.linalg.det(R2))"
   ]
  },
  {
   "cell_type": "markdown",
   "metadata": {},
   "source": [
    "p1 and p2 are just opposites of each other. We will continue with p1 and -p1 from now on."
   ]
  },
  {
   "cell_type": "code",
   "execution_count": 196,
   "metadata": {},
   "outputs": [
    {
     "name": "stdout",
     "output_type": "stream",
     "text": [
      "[[ 7.22503554e-04 -2.35005036e-01  5.27849122e-01]\n",
      " [ 2.34634352e-01 -2.37912847e-04 -4.05778528e-01]\n",
      " [-5.29516855e-01  4.07491732e-01 -4.84590707e-04]]\n",
      "[0.40577853 0.52784912 0.23500504] [-0.40577853 -0.52784912 -0.23500504]\n"
     ]
    }
   ],
   "source": [
    "p1_hat = U @ W @ S @ U.T\n",
    "\n",
    "print(p1_hat)\n",
    "\n",
    "p1 = np.array([-p1_hat[1][2], p1_hat[0][2], -p1_hat[0][1]])\n",
    "\n",
    "p2_hat = U @ W.T @ S @ U.T\n",
    "p2 = np.array([-p2_hat[1][2], p2_hat[0][2], -p2_hat[0][1]])\n",
    "\n",
    "print(p1, p2)"
   ]
  },
  {
   "cell_type": "markdown",
   "metadata": {},
   "source": [
    "Computing Lambdas, the combination below is unacceptable (assuming that pixels that are given correspond to each other meaning that i-th pixel of the first camera is the same pixel as the i-th pixel in the 2nd camera). Otherwise, all 4 combinations of (R1, p1), (R1, -p1), (R2, p1), (R2, -p1) can be acceptable."
   ]
  },
  {
   "cell_type": "code",
   "execution_count": 197,
   "metadata": {},
   "outputs": [
    {
     "name": "stdout",
     "output_type": "stream",
     "text": [
      "Lambda 1 is [[1.06382875]] and lambda 2 is [[-0.39449877]]\n"
     ]
    }
   ],
   "source": [
    "e3 = np.array([0, 0, 1]).reshape((3, 1))\n",
    "\n",
    "a = R1.T @ p1 - (e3.T @ R1.T @ p1) * cam2[0]\n",
    "b = (R1.T @ cam1[0].T).reshape((1, 3)) - (e3.T @ R1.T @ cam1[0].T) @ cam2[0]\n",
    "\n",
    "lambda_1 = (a @ a.T) / (a @ b.T)\n",
    "m = lambda_1 * cam1[0]\n",
    "lambda_2 = e3.T @ R1.T @ (m - p1).T\n",
    "print(f\"Lambda 1 is {lambda_1} and lambda 2 is {lambda_2}\")"
   ]
  },
  {
   "cell_type": "markdown",
   "metadata": {},
   "source": [
    "An unacceptable pair"
   ]
  },
  {
   "cell_type": "code",
   "execution_count": 198,
   "metadata": {},
   "outputs": [
    {
     "name": "stdout",
     "output_type": "stream",
     "text": [
      "Lambda 1 is [[-1.06382875]] and lambda 2 is [[0.39449877]]\n"
     ]
    }
   ],
   "source": [
    "a = R1.T @ -p1 - (e3.T @ R1.T @ -p1) * cam2[0]\n",
    "b = (R1.T @ cam1[0].T).reshape((1, 3)) - (e3.T @ R1.T @ cam1[0].T) @ cam2[0]\n",
    "\n",
    "lambda_1 = (a @ a.T) / (a @ b.T)\n",
    "m = lambda_1 * cam1[0]\n",
    "lambda_2 = e3.T @ R1.T @ (m + p1).T\n",
    "print(f\"Lambda 1 is {lambda_1} and lambda 2 is {lambda_2}\")"
   ]
  },
  {
   "cell_type": "markdown",
   "metadata": {},
   "source": [
    "Also unacceptable"
   ]
  },
  {
   "cell_type": "code",
   "execution_count": 199,
   "metadata": {},
   "outputs": [
    {
     "name": "stdout",
     "output_type": "stream",
     "text": [
      "Lambda 1 is [[-5.99251086]] and lambda 2 is [[-2.19916715]]\n"
     ]
    }
   ],
   "source": [
    "a = R2.T @ p1 - (e3.T @ R2.T @ p1) * cam2[0]\n",
    "b = (R2.T @ cam1[0].T).reshape((1, 3)) - (e3.T @ R2.T @ cam1[0].T) @ cam2[0]\n",
    "\n",
    "lambda_1 = (a @ a.T) / (a @ b.T)\n",
    "m = lambda_1 * cam1[0]\n",
    "lambda_2 = e3.T @ R2.T @ (m - p1).T\n",
    "print(f\"Lambda 1 is {lambda_1} and lambda 2 is {lambda_2}\")"
   ]
  },
  {
   "cell_type": "markdown",
   "metadata": {},
   "source": [
    "This is the only acceptable one."
   ]
  },
  {
   "cell_type": "code",
   "execution_count": 200,
   "metadata": {},
   "outputs": [
    {
     "name": "stdout",
     "output_type": "stream",
     "text": [
      "Lambda 1 is [[5.99251086]] and lambda 2 is [[2.19916715]]\n"
     ]
    }
   ],
   "source": [
    "a = R2.T @ -p1 - (e3.T @ R2.T @ -p1) * cam2[0]\n",
    "b = (R2.T @ cam1[0].T).reshape((1, 3)) - (e3.T @ R2.T @ cam1[0].T) @ cam2[0]\n",
    "\n",
    "lambda_1 = (a @ a.T) / (a @ b.T)\n",
    "m = lambda_1 * cam1[0]\n",
    "lambda_2 = e3.T @ R2.T @ (m + p1).T\n",
    "print(f\"Lambda 1 is {lambda_1} and lambda 2 is {lambda_2}\")"
   ]
  },
  {
   "cell_type": "markdown",
   "metadata": {},
   "source": [
    "So the correct answer would be only R1 and p1"
   ]
  },
  {
   "cell_type": "code",
   "execution_count": 201,
   "metadata": {},
   "outputs": [
    {
     "name": "stdout",
     "output_type": "stream",
     "text": [
      "Correct rotation is \n",
      " [[ 0.2888588   0.74425842  0.60219598]\n",
      " [-0.55214875 -0.38434779  0.73987062]\n",
      " [ 0.78210763 -0.54621989  0.29991912]] \n",
      " and correct transformation is [-0.40577853 -0.52784912 -0.23500504]\n"
     ]
    }
   ],
   "source": [
    "print(f\"Correct rotation is \\n {R2} \\n and correct transformation is {-p1}\") "
   ]
  }
 ],
 "metadata": {
  "kernelspec": {
   "display_name": "276pr2",
   "language": "python",
   "name": "python3"
  },
  "language_info": {
   "codemirror_mode": {
    "name": "ipython",
    "version": 3
   },
   "file_extension": ".py",
   "mimetype": "text/x-python",
   "name": "python",
   "nbconvert_exporter": "python",
   "pygments_lexer": "ipython3",
   "version": "3.10.16"
  }
 },
 "nbformat": 4,
 "nbformat_minor": 2
}
